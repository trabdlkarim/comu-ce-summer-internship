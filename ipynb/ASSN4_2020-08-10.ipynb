{
 "cells": [
  {
   "cell_type": "markdown",
   "metadata": {},
   "source": [
    "# **ASSIGNEMENT #004**"
   ]
  },
  {
   "cell_type": "markdown",
   "metadata": {},
   "source": [
    "# **COVID-19 Virus Spread  Exploratory Data Analysis**"
   ]
  },
  {
   "cell_type": "code",
   "execution_count": 2,
   "metadata": {},
   "outputs": [],
   "source": [
    "import numpy as np\n",
    "import pandas as pd\n",
    "import matplotlib.pyplot as plt\n",
    "import matplotlib.image as mpimg"
   ]
  },
  {
   "cell_type": "markdown",
   "metadata": {},
   "source": [
    "## *COVID-19 Dataset Presentation*"
   ]
  },
  {
   "cell_type": "markdown",
   "metadata": {},
   "source": [
    "The data contains records about the COVID-19 spread across the globe. There are 3 datasets that contain the country-wise spread, state-wise spread along with longitude and latitude.\n",
    "\n",
    "It is an excellent database for people who want to try learning techniques of data visualization, data analytics, and many different forms of data processing.\n",
    "\n",
    "#### Data Format:\n",
    "\n",
    "  - Country_Region\n",
    "  - Last_Update\n",
    "  - Lat\n",
    "  - Long_\n",
    "  - Confirmed\n",
    "  - Deaths\n",
    "  - Recovered\n",
    "  - Active\n",
    "  - Incident_Rate\n",
    "  - People_Tested\n",
    "  - People_Hospitalized\n",
    "  - Mortality_Rate\n",
    "  - UID\n",
    "  - ISO3\n",
    "\n",
    "#### Domain: Stocks, Finance\n",
    "#### Language: English\n",
    "#### Source: [ Tata Global Stocks Data](https://www.quandl.com/data/NSE/TATAGLOBAL-Tata-Global-Beverages-Limited)\n",
    "#### Download links: [COVID-19 Dataset 1](https://data-flair.s3.ap-south-1.amazonaws.com/Data-Science-Data/covid-19-dataset-1.zip), [COVID-19 Dataset 2](https://data-flair.s3.ap-south-1.amazonaws.com/Data-Science-Data/covid-19-dataset-2.zip), [COVID-19 Dataset 3](https://data-flair.s3.ap-south-1.amazonaws.com/Data-Science-Data/covid-19-dataset-1.zip)\n",
    "            \n",
    "\n"
   ]
  },
  {
   "cell_type": "code",
   "execution_count": null,
   "metadata": {},
   "outputs": [],
   "source": []
  }
 ],
 "metadata": {
  "kernelspec": {
   "display_name": "Python 3",
   "language": "python",
   "name": "python3"
  },
  "language_info": {
   "codemirror_mode": {
    "name": "ipython",
    "version": 3
   },
   "file_extension": ".py",
   "mimetype": "text/x-python",
   "name": "python",
   "nbconvert_exporter": "python",
   "pygments_lexer": "ipython3",
   "version": "3.7.7"
  }
 },
 "nbformat": 4,
 "nbformat_minor": 4
}
